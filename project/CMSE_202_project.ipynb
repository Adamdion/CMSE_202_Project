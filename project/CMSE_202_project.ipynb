{
 "cells": [
  {
   "cell_type": "markdown",
   "metadata": {},
   "source": [
    "# CMSE 202 Final Project\n",
    "## Factors of Generational Wealth\n",
    "## Questions we are trying to answer\n",
    "1. How race & education impact generational wealth over time?\n",
    "2. How has the income gap changed over time?\n",
    "3. Find the most important factors that impact generational wealth.\n",
    "4. How does a hand made model compare to a pre made machine learning model?"
   ]
  },
  {
   "cell_type": "code",
   "execution_count": 1,
   "metadata": {},
   "outputs": [],
   "source": [
    "## Import useful libraries\n",
    "import pandas as pd"
   ]
  },
  {
   "cell_type": "code",
   "execution_count": 38,
   "metadata": {},
   "outputs": [],
   "source": [
    "## Reading in the data\n",
    "education = pd.read_csv(\"dfa-education-levels.csv\")\n",
    "race = pd.read_csv(\"dfa-race-levels.csv\")\n",
    "networth = pd.read_csv(\"dfa-networth-levels.csv\")\n",
    "generation = pd.read_csv(\"dfa-generation-levels.csv\")\n",
    "income = pd.read_csv(\"dfa-income-levels.csv\")\n"
   ]
  },
  {
   "cell_type": "code",
   "execution_count": 39,
   "metadata": {},
   "outputs": [],
   "source": [
    "## cleaning all of the data\n",
    "data = [education,race,networth,generation,income]\n",
    "for i in range(len(data)):\n",
    "    data[i] = data[i].drop(columns = data[i].columns[3:14])\n",
    "    data[i][['Year','Quarter']] = pd.DataFrame(data[i].Date.str.split(':',1).tolist(), columns = ['year','quarter'])\n",
    "    data[i] = data[i].drop(columns = ['Date'])\n",
    "education = data[0]\n",
    "race = data[1]\n",
    "networth = data[2]\n",
    "generation = data[3]\n",
    "income = data[4]\n"
   ]
  },
  {
   "cell_type": "code",
   "execution_count": 40,
   "metadata": {},
   "outputs": [],
   "source": [
    "## Modeling\n",
    "education_level = 'College'\n",
    "if education_level == 'College':\n",
    "    avg_education = education['Net worth'].iloc[-4]"
   ]
  },
  {
   "cell_type": "code",
   "execution_count": 88,
   "metadata": {},
   "outputs": [
    {
     "data": {
      "text/html": [
       "<div>\n",
       "<style scoped>\n",
       "    .dataframe tbody tr th:only-of-type {\n",
       "        vertical-align: middle;\n",
       "    }\n",
       "\n",
       "    .dataframe tbody tr th {\n",
       "        vertical-align: top;\n",
       "    }\n",
       "\n",
       "    .dataframe thead th {\n",
       "        text-align: right;\n",
       "    }\n",
       "</style>\n",
       "<table border=\"1\" class=\"dataframe\">\n",
       "  <thead>\n",
       "    <tr style=\"text-align: right;\">\n",
       "      <th></th>\n",
       "      <th>Category</th>\n",
       "      <th>Net worth</th>\n",
       "      <th>Year</th>\n",
       "      <th>Quarter</th>\n",
       "    </tr>\n",
       "  </thead>\n",
       "  <tbody>\n",
       "    <tr>\n",
       "      <th>0</th>\n",
       "      <td>Silent</td>\n",
       "      <td>16004832</td>\n",
       "      <td>1989</td>\n",
       "      <td>Q3</td>\n",
       "    </tr>\n",
       "    <tr>\n",
       "      <th>1</th>\n",
       "      <td>BabyBoom</td>\n",
       "      <td>4348518</td>\n",
       "      <td>1989</td>\n",
       "      <td>Q3</td>\n",
       "    </tr>\n",
       "    <tr>\n",
       "      <th>2</th>\n",
       "      <td>GenX</td>\n",
       "      <td>77804</td>\n",
       "      <td>1989</td>\n",
       "      <td>Q3</td>\n",
       "    </tr>\n",
       "    <tr>\n",
       "      <th>3</th>\n",
       "      <td>Millennial</td>\n",
       "      <td>0</td>\n",
       "      <td>1989</td>\n",
       "      <td>Q3</td>\n",
       "    </tr>\n",
       "    <tr>\n",
       "      <th>4</th>\n",
       "      <td>Silent</td>\n",
       "      <td>16067852</td>\n",
       "      <td>1989</td>\n",
       "      <td>Q4</td>\n",
       "    </tr>\n",
       "    <tr>\n",
       "      <th>...</th>\n",
       "      <td>...</td>\n",
       "      <td>...</td>\n",
       "      <td>...</td>\n",
       "      <td>...</td>\n",
       "    </tr>\n",
       "    <tr>\n",
       "      <th>491</th>\n",
       "      <td>Millennial</td>\n",
       "      <td>4145757</td>\n",
       "      <td>2020</td>\n",
       "      <td>Q1</td>\n",
       "    </tr>\n",
       "    <tr>\n",
       "      <th>492</th>\n",
       "      <td>Silent</td>\n",
       "      <td>18784932</td>\n",
       "      <td>2020</td>\n",
       "      <td>Q2</td>\n",
       "    </tr>\n",
       "    <tr>\n",
       "      <th>493</th>\n",
       "      <td>BabyBoom</td>\n",
       "      <td>59556752</td>\n",
       "      <td>2020</td>\n",
       "      <td>Q2</td>\n",
       "    </tr>\n",
       "    <tr>\n",
       "      <th>494</th>\n",
       "      <td>GenX</td>\n",
       "      <td>28521057</td>\n",
       "      <td>2020</td>\n",
       "      <td>Q2</td>\n",
       "    </tr>\n",
       "    <tr>\n",
       "      <th>495</th>\n",
       "      <td>Millennial</td>\n",
       "      <td>5189539</td>\n",
       "      <td>2020</td>\n",
       "      <td>Q2</td>\n",
       "    </tr>\n",
       "  </tbody>\n",
       "</table>\n",
       "<p>496 rows × 4 columns</p>\n",
       "</div>"
      ],
      "text/plain": [
       "       Category  Net worth  Year Quarter\n",
       "0        Silent   16004832  1989      Q3\n",
       "1      BabyBoom    4348518  1989      Q3\n",
       "2          GenX      77804  1989      Q3\n",
       "3    Millennial          0  1989      Q3\n",
       "4        Silent   16067852  1989      Q4\n",
       "..          ...        ...   ...     ...\n",
       "491  Millennial    4145757  2020      Q1\n",
       "492      Silent   18784932  2020      Q2\n",
       "493    BabyBoom   59556752  2020      Q2\n",
       "494        GenX   28521057  2020      Q2\n",
       "495  Millennial    5189539  2020      Q2\n",
       "\n",
       "[496 rows x 4 columns]"
      ]
     },
     "execution_count": 88,
     "metadata": {},
     "output_type": "execute_result"
    }
   ],
   "source": [
    "generation"
   ]
  },
  {
   "cell_type": "code",
   "execution_count": 117,
   "metadata": {},
   "outputs": [],
   "source": [
    "## predicting wealth function based on educataion, race, generation\n",
    "def predict_wealth(education_level,race_,generation_):  # Adam \n",
    "    avg_education = None \n",
    "    avg_race = None\n",
    "    avg_generation = None\n",
    "    if education_level == 'College':\n",
    "        avg_education = education['Net worth'].iloc[-4]\n",
    "    elif education_level == 'SomeCollege':\n",
    "        avg_education = education['Net worth'].iloc[-3]\n",
    "    elif education_level == 'HS':\n",
    "        avg_education = education['Net worth'].iloc[-2]\n",
    "    elif education_level == 'NoHS':\n",
    "        avg_education = education['Net worth'].iloc[-1]\n",
    "    else:\n",
    "        print('Education not identified. Please Try Again')\n",
    "        \n",
    "    \n",
    "    if race_ == 'White':\n",
    "        avg_race = race['Net worth'].iloc[-4]\n",
    "    elif race_ == 'Black':\n",
    "        avg_race = race['Net worth'].iloc[-3]\n",
    "    elif race_ == 'Hispanic':\n",
    "        avg_race = race['Net worth'].iloc[-2]\n",
    "    elif race_ == 'Other':\n",
    "        avg_race = race['Net worth'].iloc[-1]\n",
    "    else:\n",
    "        print('Race not identified. Please Try Again')\n",
    "        \n",
    "    if generation_ == 'Silent':\n",
    "        avg_generation = generation['Net worth'].iloc[-4]\n",
    "    elif generation_ == 'BabyBoom':\n",
    "        avg_generation = generation['Net worth'].iloc[-3]\n",
    "    elif generation_ == 'GenX':\n",
    "        avg_generation = generation['Net worth'].iloc[-2]\n",
    "    elif generation_ == 'Millennial':\n",
    "        avg_generation = generation['Net worth'].iloc[-1]\n",
    "    else:\n",
    "        print('Generation not identified. Please Try Again')\n",
    "    \n",
    "            \n",
    "    if avg_race == None or avg_education == None or avg_generation == None: \n",
    "        avg_wealth = None    \n",
    "        print('Incorrect Input')\n",
    "    else:\n",
    "        avg_wealth = round((avg_education + avg_race + avg_generation)/3,2)\n",
    "    \n",
    "\n",
    "    \n",
    "    return print('$',avg_wealth)\n",
    "    "
   ]
  },
  {
   "cell_type": "code",
   "execution_count": 118,
   "metadata": {},
   "outputs": [
    {
     "name": "stdout",
     "output_type": "stream",
     "text": [
      "Type of educations\n",
      "492        College\n",
      "493    SomeCollege\n",
      "494             HS\n",
      "495           NoHS\n",
      "Name: Category, dtype: object\n",
      "Type of races\n",
      "492       White\n",
      "493       Black\n",
      "494    Hispanic\n",
      "495       Other\n",
      "Name: Category, dtype: object\n",
      "Type of generations\n",
      "492        Silent\n",
      "493      BabyBoom\n",
      "494          GenX\n",
      "495    Millennial\n",
      "Name: Category, dtype: object\n"
     ]
    }
   ],
   "source": [
    "print('Type of educations')\n",
    "print(education['Category'].tail(4))\n",
    "\n",
    "print('Type of races')\n",
    "print(race['Category'].tail(4))\n",
    "\n",
    "print('Type of generations')\n",
    "print(generation['Category'].tail(4))\n"
   ]
  },
  {
   "cell_type": "code",
   "execution_count": 132,
   "metadata": {},
   "outputs": [
    {
     "name": "stdout",
     "output_type": "stream",
     "text": [
      "$ 9244147.0\n"
     ]
    }
   ],
   "source": [
    "predict_wealth('HS','Other','Millennial')"
   ]
  },
  {
   "cell_type": "code",
   "execution_count": 86,
   "metadata": {},
   "outputs": [],
   "source": [
    "## machine learning model"
   ]
  },
  {
   "cell_type": "markdown",
   "metadata": {},
   "source": [
    "# Conclusion"
   ]
  },
  {
   "cell_type": "code",
   "execution_count": null,
   "metadata": {},
   "outputs": [],
   "source": []
  }
 ],
 "metadata": {
  "kernelspec": {
   "display_name": "Python 3",
   "language": "python",
   "name": "python3"
  },
  "language_info": {
   "codemirror_mode": {
    "name": "ipython",
    "version": 3
   },
   "file_extension": ".py",
   "mimetype": "text/x-python",
   "name": "python",
   "nbconvert_exporter": "python",
   "pygments_lexer": "ipython3",
   "version": "3.7.4"
  }
 },
 "nbformat": 4,
 "nbformat_minor": 2
}

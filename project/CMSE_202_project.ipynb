{
 "cells": [
  {
   "cell_type": "markdown",
   "metadata": {},
   "source": [
    "# CMSE 202 Final Project\n",
    "## Factors of Generational Wealth\n",
    "## Questions we are trying to answer\n",
    "1. How race & education impact generational wealth over time?\n",
    "2. How has the income gap changed over time?\n",
    "3. Find the most important factors that impact generational wealth.\n",
    "4. How does a hand made model compare to a pre made machine learning model?"
   ]
  },
  {
   "cell_type": "code",
   "execution_count": 108,
   "metadata": {},
   "outputs": [],
   "source": [
    "## Import useful libraries\n",
    "import pandas as pd"
   ]
  },
  {
   "cell_type": "code",
   "execution_count": 120,
   "metadata": {},
   "outputs": [],
   "source": [
    "## Reading in the data\n",
    "education = pd.read_csv(\"dfa-education-levels.csv\")\n",
    "race = pd.read_csv(\"dfa-race-levels.csv\")\n",
    "networth = pd.read_csv(\"dfa-networth-levels.csv\")\n",
    "generation = pd.read_csv(\"dfa-generation-levels.csv\")\n",
    "income = pd.read_csv(\"dfa-income-levels.csv\")\n"
   ]
  },
  {
   "cell_type": "code",
   "execution_count": 121,
   "metadata": {},
   "outputs": [],
   "source": [
    "## cleaning all of the data\n",
    "data = [education,race,networth,generation,income]\n",
    "for i in range(len(data)):\n",
    "    data[i] = data[i].drop(columns = data[i].columns[3:14])\n",
    "    data[i][['Year','Quarter']] = pd.DataFrame(data[i].Date.str.split(':',1).tolist(), columns = ['year','quarter'])\n",
    "    data[i] = data[i].drop(columns = ['Date'])\n",
    "education = data[0]\n",
    "race = data[1]\n",
    "networth = data[2]\n",
    "generation = data[3]\n",
    "income = data[4]\n"
   ]
  },
  {
   "cell_type": "code",
   "execution_count": 105,
   "metadata": {},
   "outputs": [],
   "source": [
    "## Modeling\n"
   ]
  },
  {
   "cell_type": "code",
   "execution_count": null,
   "metadata": {},
   "outputs": [],
   "source": []
  },
  {
   "cell_type": "code",
   "execution_count": null,
   "metadata": {},
   "outputs": [],
   "source": [
    "## predicting wealth function based on educataion, race, generation\n",
    "def predict_wealth(education,race,generation):  # Adam \n",
    "    \n",
    "    "
   ]
  },
  {
   "cell_type": "code",
   "execution_count": null,
   "metadata": {},
   "outputs": [],
   "source": [
    "## machine learning model"
   ]
  },
  {
   "cell_type": "code",
   "execution_count": null,
   "metadata": {},
   "outputs": [],
   "source": []
  },
  {
   "cell_type": "code",
   "execution_count": null,
   "metadata": {},
   "outputs": [],
   "source": []
  },
  {
   "cell_type": "markdown",
   "metadata": {},
   "source": [
    "# Conclusion"
   ]
  },
  {
   "cell_type": "code",
   "execution_count": null,
   "metadata": {},
   "outputs": [],
   "source": []
  }
 ],
 "metadata": {
  "kernelspec": {
   "display_name": "Python 3",
   "language": "python",
   "name": "python3"
  },
  "language_info": {
   "codemirror_mode": {
    "name": "ipython",
    "version": 3
   },
   "file_extension": ".py",
   "mimetype": "text/x-python",
   "name": "python",
   "nbconvert_exporter": "python",
   "pygments_lexer": "ipython3",
   "version": "3.7.4"
  }
 },
 "nbformat": 4,
 "nbformat_minor": 2
}

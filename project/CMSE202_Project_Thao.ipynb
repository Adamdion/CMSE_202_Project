{
 "cells": [
  {
   "cell_type": "markdown",
   "metadata": {},
   "source": [
    "# Tracking wealth over time based on race and education\n",
    "## Thao Nguyen, Adam Dion, Vicente Amado"
   ]
  },
  {
   "cell_type": "markdown",
   "metadata": {},
   "source": [
    "### Problem Statement\n",
    "\n",
    "In this project we are trying to explore the following problems:\n",
    "\n",
    "1. Look at how race and education impacted net worth over time\n",
    "2. Create a neural network to predict net worth based on race and education\n",
    "3. Compare a neural network model to a simple handmade model -- this one may change based on what we decide to do"
   ]
  },
  {
   "cell_type": "markdown",
   "metadata": {},
   "source": [
    "### Data Exploration"
   ]
  },
  {
   "cell_type": "code",
   "execution_count": 52,
   "metadata": {},
   "outputs": [],
   "source": [
    "## this will stop warning boxes from showing up\n",
    "import warnings\n",
    "warnings.filterwarnings('ignore')"
   ]
  },
  {
   "cell_type": "code",
   "execution_count": 53,
   "metadata": {},
   "outputs": [],
   "source": [
    "## Import useful libraries\n",
    "import pandas as pd\n",
    "import matplotlib.pyplot as plt\n",
    "import seaborn as sns"
   ]
  },
  {
   "cell_type": "code",
   "execution_count": 54,
   "metadata": {},
   "outputs": [],
   "source": [
    "#Reading in the data from the federal reserve\n",
    "education = pd.read_csv(\"dfa-education-levels.csv\")\n",
    "race = pd.read_csv(\"dfa-race-levels.csv\")\n",
    "networth = pd.read_csv(\"dfa-networth-levels.csv\")\n",
    "generation = pd.read_csv(\"dfa-generation-levels.csv\")\n",
    "income = pd.read_csv(\"dfa-income-levels.csv\")\n"
   ]
  },
  {
   "cell_type": "code",
   "execution_count": 55,
   "metadata": {},
   "outputs": [],
   "source": [
    "## cleaning all of the data\n",
    "data = [education,race,networth,generation,income]\n",
    "for i in range(len(data)):\n",
    "    data[i] = data[i].drop(columns = data[i].columns[3:14])\n",
    "    data[i][['Year','Quarter']] = pd.DataFrame(data[i].Date.str.split(':',1).tolist(), columns = ['year','quarter'])\n",
    "    data[i] = data[i].drop(columns = ['Date'])\n",
    "education = data[0]\n",
    "race = data[1]\n",
    "networth = data[2]\n",
    "generation = data[3]\n",
    "income = data[4]"
   ]
  },
  {
   "cell_type": "code",
   "execution_count": 56,
   "metadata": {},
   "outputs": [
    {
     "data": {
      "text/html": [
       "<div>\n",
       "<style scoped>\n",
       "    .dataframe tbody tr th:only-of-type {\n",
       "        vertical-align: middle;\n",
       "    }\n",
       "\n",
       "    .dataframe tbody tr th {\n",
       "        vertical-align: top;\n",
       "    }\n",
       "\n",
       "    .dataframe thead th {\n",
       "        text-align: right;\n",
       "    }\n",
       "</style>\n",
       "<table border=\"1\" class=\"dataframe\">\n",
       "  <thead>\n",
       "    <tr style=\"text-align: right;\">\n",
       "      <th></th>\n",
       "      <th>Category</th>\n",
       "      <th>Net worth</th>\n",
       "      <th>Year</th>\n",
       "      <th>Quarter</th>\n",
       "    </tr>\n",
       "  </thead>\n",
       "  <tbody>\n",
       "    <tr>\n",
       "      <th>0</th>\n",
       "      <td>College</td>\n",
       "      <td>10069957</td>\n",
       "      <td>1989</td>\n",
       "      <td>Q3</td>\n",
       "    </tr>\n",
       "    <tr>\n",
       "      <th>1</th>\n",
       "      <td>SomeCollege</td>\n",
       "      <td>3927113</td>\n",
       "      <td>1989</td>\n",
       "      <td>Q3</td>\n",
       "    </tr>\n",
       "    <tr>\n",
       "      <th>2</th>\n",
       "      <td>HS</td>\n",
       "      <td>4182626</td>\n",
       "      <td>1989</td>\n",
       "      <td>Q3</td>\n",
       "    </tr>\n",
       "    <tr>\n",
       "      <th>3</th>\n",
       "      <td>NoHS</td>\n",
       "      <td>2251459</td>\n",
       "      <td>1989</td>\n",
       "      <td>Q3</td>\n",
       "    </tr>\n",
       "    <tr>\n",
       "      <th>4</th>\n",
       "      <td>College</td>\n",
       "      <td>10432985</td>\n",
       "      <td>1989</td>\n",
       "      <td>Q4</td>\n",
       "    </tr>\n",
       "  </tbody>\n",
       "</table>\n",
       "</div>"
      ],
      "text/plain": [
       "      Category  Net worth  Year Quarter\n",
       "0      College   10069957  1989      Q3\n",
       "1  SomeCollege    3927113  1989      Q3\n",
       "2           HS    4182626  1989      Q3\n",
       "3         NoHS    2251459  1989      Q3\n",
       "4      College   10432985  1989      Q4"
      ]
     },
     "execution_count": 56,
     "metadata": {},
     "output_type": "execute_result"
    }
   ],
   "source": [
    "## Looking at only education and race\n",
    "education.head()"
   ]
  },
  {
   "cell_type": "code",
   "execution_count": 57,
   "metadata": {},
   "outputs": [
    {
     "data": {
      "text/html": [
       "<div>\n",
       "<style scoped>\n",
       "    .dataframe tbody tr th:only-of-type {\n",
       "        vertical-align: middle;\n",
       "    }\n",
       "\n",
       "    .dataframe tbody tr th {\n",
       "        vertical-align: top;\n",
       "    }\n",
       "\n",
       "    .dataframe thead th {\n",
       "        text-align: right;\n",
       "    }\n",
       "</style>\n",
       "<table border=\"1\" class=\"dataframe\">\n",
       "  <thead>\n",
       "    <tr style=\"text-align: right;\">\n",
       "      <th></th>\n",
       "      <th>Category</th>\n",
       "      <th>Net worth</th>\n",
       "      <th>Year</th>\n",
       "      <th>Quarter</th>\n",
       "    </tr>\n",
       "  </thead>\n",
       "  <tbody>\n",
       "    <tr>\n",
       "      <th>0</th>\n",
       "      <td>White</td>\n",
       "      <td>18507570</td>\n",
       "      <td>1989</td>\n",
       "      <td>Q3</td>\n",
       "    </tr>\n",
       "    <tr>\n",
       "      <th>1</th>\n",
       "      <td>Black</td>\n",
       "      <td>779379</td>\n",
       "      <td>1989</td>\n",
       "      <td>Q3</td>\n",
       "    </tr>\n",
       "    <tr>\n",
       "      <th>2</th>\n",
       "      <td>Hispanic</td>\n",
       "      <td>419183</td>\n",
       "      <td>1989</td>\n",
       "      <td>Q3</td>\n",
       "    </tr>\n",
       "    <tr>\n",
       "      <th>3</th>\n",
       "      <td>Other</td>\n",
       "      <td>725023</td>\n",
       "      <td>1989</td>\n",
       "      <td>Q3</td>\n",
       "    </tr>\n",
       "    <tr>\n",
       "      <th>4</th>\n",
       "      <td>White</td>\n",
       "      <td>18751641</td>\n",
       "      <td>1989</td>\n",
       "      <td>Q4</td>\n",
       "    </tr>\n",
       "  </tbody>\n",
       "</table>\n",
       "</div>"
      ],
      "text/plain": [
       "   Category  Net worth  Year Quarter\n",
       "0     White   18507570  1989      Q3\n",
       "1     Black     779379  1989      Q3\n",
       "2  Hispanic     419183  1989      Q3\n",
       "3     Other     725023  1989      Q3\n",
       "4     White   18751641  1989      Q4"
      ]
     },
     "execution_count": 57,
     "metadata": {},
     "output_type": "execute_result"
    }
   ],
   "source": [
    "race.head()"
   ]
  },
  {
   "cell_type": "code",
   "execution_count": 58,
   "metadata": {},
   "outputs": [
    {
     "data": {
      "text/plain": [
       "Text(0.5, 1.0, 'Net worth over time based on education level')"
      ]
     },
     "execution_count": 58,
     "metadata": {},
     "output_type": "execute_result"
    },
    {
     "data": {
      "image/png": "[encoded data removed]",
      "text/plain": [
       "<Figure size 432x288 with 1 Axes>"
      ]
     },
     "metadata": {
      "needs_background": "light"
     },
     "output_type": "display_data"
    }
   ],
   "source": [
    "## plotting education to see the relationships between each category\n",
    "fig, ax = plt.subplots();\n",
    "education.groupby('Category').plot(x='Year', y='Net worth', ax=ax);\n",
    "plt.legend([v[0] for v in education.groupby('Category')['Category']])\n",
    "plt.ylabel('Net worth ($)')\n",
    "plt.title('Net worth over time based on education level')"
   ]
  },
  {
   "cell_type": "code",
   "execution_count": 59,
   "metadata": {},
   "outputs": [
    {
     "data": {
      "text/plain": [
       "Text(0.5, 1.0, 'Net worth over time based on race')"
      ]
     },
     "execution_count": 59,
     "metadata": {},
     "output_type": "execute_result"
    },
    {
     "data": {
      "image/png": "[encoded data removed]",
      "text/plain": [
       "<Figure size 432x288 with 1 Axes>"
      ]
     },
     "metadata": {
      "needs_background": "light"
     },
     "output_type": "display_data"
    }
   ],
   "source": [
    "## plotting race to see the relationships between each category\n",
    "fig, ax = plt.subplots();\n",
    "race.groupby('Category').plot(x='Year', y='Net worth', ax=ax);\n",
    "plt.legend([v[0] for v in race.groupby('Category')['Category']])\n",
    "plt.ylabel('Net worth ($)')\n",
    "plt.title('Net worth over time based on race')"
   ]
  },
  {
   "cell_type": "markdown",
   "metadata": {},
   "source": [
    "Similar graphs but the gap between wealth is much larger between the races compared to educaiton level. In general, it is very hard to catch up in wealth if you had a college education or if you were born white (or both). "
   ]
  },
  {
   "cell_type": "markdown",
   "metadata": {},
   "source": [
    "### Model Development and Building"
   ]
  },
  {
   "cell_type": "markdown",
   "metadata": {},
   "source": [
    "To build our model, we will take the average wealth of each group for each year and use that dataset to fit and predict. We will look at how many quarters are in a year to allow us to decide how many data points are in a given year. Every year has 4 quarters and the year resets after the last 4th quarter."
   ]
  },
  {
   "cell_type": "code",
   "execution_count": 60,
   "metadata": {},
   "outputs": [
    {
     "name": "stdout",
     "output_type": "stream",
     "text": [
      "      Category  Net worth  Year Quarter\n",
      "0      College   10069957  1989      Q3\n",
      "1  SomeCollege    3927113  1989      Q3\n",
      "2           HS    4182626  1989      Q3\n",
      "3         NoHS    2251459  1989      Q3\n",
      "4      College   10432985  1989      Q4\n",
      "5  SomeCollege    3992339  1989      Q4\n",
      "6           HS    4177110  1989      Q4\n",
      "7         NoHS    2213354  1989      Q4\n",
      "       Category  Net worth  Year Quarter\n",
      "8       College   10509133  1990      Q1\n",
      "9   SomeCollege    4039942  1990      Q1\n",
      "10           HS    4199956  1990      Q1\n",
      "11         NoHS    2204833  1990      Q1\n",
      "12      College   10669228  1990      Q2\n",
      "13  SomeCollege    4115884  1990      Q2\n",
      "14           HS    4204755  1990      Q2\n",
      "15         NoHS    2193180  1990      Q2\n",
      "16      College   10514904  1990      Q3\n",
      "17  SomeCollege    4091622  1990      Q3\n",
      "18           HS    4240137  1990      Q3\n",
      "19         NoHS    2184287  1990      Q3\n",
      "20      College   10915986  1990      Q4\n",
      "21  SomeCollege    4174423  1990      Q4\n",
      "22           HS    4235179  1990      Q4\n",
      "23         NoHS    2126385  1990      Q4\n",
      "       Category  Net worth  Year Quarter\n",
      "24      College   11445531  1991      Q1\n",
      "25  SomeCollege    4306065  1991      Q1\n",
      "26           HS    4226144  1991      Q1\n",
      "27         NoHS    2031293  1991      Q1\n",
      "28      College   11437954  1991      Q2\n",
      "29  SomeCollege    4343039  1991      Q2\n",
      "30           HS    4271366  1991      Q2\n",
      "31         NoHS    1999045  1991      Q2\n",
      "32      College   11568207  1991      Q3\n",
      "33  SomeCollege    4440721  1991      Q3\n",
      "34           HS    4359756  1991      Q3\n",
      "35         NoHS    1963089  1991      Q3\n",
      "36      College   12061425  1991      Q4\n",
      "37  SomeCollege    4590373  1991      Q4\n",
      "38           HS    4409137  1991      Q4\n",
      "39         NoHS    1871859  1991      Q4\n",
      "       Category  Net worth  Year Quarter\n",
      "40      College   12142621  1992      Q1\n",
      "41  SomeCollege    4627934  1992      Q1\n",
      "42           HS    4397046  1992      Q1\n",
      "43         NoHS    1861120  1992      Q1\n",
      "44      College   12185537  1992      Q2\n",
      "45  SomeCollege    4675931  1992      Q2\n",
      "46           HS    4402719  1992      Q2\n",
      "47         NoHS    1855692  1992      Q2\n",
      "48      College   12388617  1992      Q3\n",
      "49  SomeCollege    4787376  1992      Q3\n",
      "50           HS    4488976  1992      Q3\n",
      "51         NoHS    1803907  1992      Q3\n",
      "52      College   12797963  1992      Q4\n",
      "53  SomeCollege    4894459  1992      Q4\n",
      "54           HS    4556019  1992      Q4\n",
      "55         NoHS    1820055  1992      Q4\n",
      "       Category  Net worth  Year Quarter\n",
      "56      College   12967690  1993      Q1\n",
      "57  SomeCollege    4953053  1993      Q1\n",
      "58           HS    4596236  1993      Q1\n",
      "59         NoHS    1866263  1993      Q1\n",
      "60      College   13034709  1993      Q2\n",
      "61  SomeCollege    5015264  1993      Q2\n",
      "62           HS    4702862  1993      Q2\n",
      "63         NoHS    1884856  1993      Q2\n",
      "64      College   13184927  1993      Q3\n",
      "65  SomeCollege    5095900  1993      Q3\n",
      "66           HS    4830138  1993      Q3\n",
      "67         NoHS    1903401  1993      Q3\n",
      "68      College   13429532  1993      Q4\n",
      "69  SomeCollege    5166115  1993      Q4\n",
      "70           HS    4914443  1993      Q4\n",
      "71         NoHS    1921152  1993      Q4\n",
      "       Category  Net worth  Year Quarter\n",
      "72      College   13462779  1994      Q1\n",
      "73  SomeCollege    5177851  1994      Q1\n",
      "74           HS    4953775  1994      Q1\n",
      "75         NoHS    1977729  1994      Q1\n",
      "76      College   13341871  1994      Q2\n",
      "77  SomeCollege    5226190  1994      Q2\n",
      "78           HS    5107705  1994      Q2\n",
      "79         NoHS    2055822  1994      Q2\n",
      "80      College   13390981  1994      Q3\n",
      "81  SomeCollege    5311685  1994      Q3\n",
      "82           HS    5255328  1994      Q3\n",
      "83         NoHS    2099414  1994      Q3\n",
      "84      College   13367402  1994      Q4\n",
      "85  SomeCollege    5344995  1994      Q4\n",
      "86           HS    5357359  1994      Q4\n",
      "87         NoHS    2179121  1994      Q4\n",
      "        Category  Net worth  Year Quarter\n",
      "88       College   13544819  1995      Q1\n",
      "89   SomeCollege    5497512  1995      Q1\n",
      "90            HS    5516570  1995      Q1\n",
      "91          NoHS    2214297  1995      Q1\n",
      "92       College   13746444  1995      Q2\n",
      "93   SomeCollege    5657131  1995      Q2\n",
      "94            HS    5700151  1995      Q2\n",
      "95          NoHS    2184333  1995      Q2\n",
      "96       College   14065680  1995      Q3\n",
      "97   SomeCollege    5805996  1995      Q3\n",
      "98            HS    5854907  1995      Q3\n",
      "99          NoHS    2151355  1995      Q3\n",
      "100      College   14612039  1995      Q4\n",
      "101  SomeCollege    5903631  1995      Q4\n",
      "102           HS    5931078  1995      Q4\n",
      "103         NoHS    2105415  1995      Q4\n",
      "        Category  Net worth  Year Quarter\n",
      "104      College   15118967  1996      Q1\n",
      "105  SomeCollege    5991607  1996      Q1\n",
      "106           HS    5954486  1996      Q1\n",
      "107         NoHS    2052050  1996      Q1\n",
      "108      College   15438533  1996      Q2\n",
      "109  SomeCollege    6045387  1996      Q2\n",
      "110           HS    6000453  1996      Q2\n",
      "111         NoHS    2034280  1996      Q2\n",
      "112      College   15637860  1996      Q3\n",
      "113  SomeCollege    6089615  1996      Q3\n",
      "114           HS    6045181  1996      Q3\n",
      "115         NoHS    2024958  1996      Q3\n",
      "116      College   16136749  1996      Q4\n",
      "117  SomeCollege    6200150  1996      Q4\n",
      "118           HS    6137172  1996      Q4\n",
      "119         NoHS    1989518  1996      Q4\n",
      "        Category  Net worth  Year Quarter\n",
      "120      College   16403976  1997      Q1\n",
      "121  SomeCollege    6204575  1997      Q1\n",
      "122           HS    6184480  1997      Q1\n",
      "123         NoHS    1947776  1997      Q1\n",
      "124      College   17277943  1997      Q2\n",
      "125  SomeCollege    6509051  1997      Q2\n",
      "126           HS    6308786  1997      Q2\n",
      "127         NoHS    1901795  1997      Q2\n",
      "128      College   17956028  1997      Q3\n",
      "129  SomeCollege    6688715  1997      Q3\n",
      "130           HS    6459527  1997      Q3\n",
      "131         NoHS    1845519  1997      Q3\n",
      "132      College   18446874  1997      Q4\n",
      "133  SomeCollege    6740921  1997      Q4\n",
      "134           HS    6501715  1997      Q4\n",
      "135         NoHS    1811082  1997      Q4\n",
      "        Category  Net worth  Year Quarter\n",
      "136      College   19679923  1998      Q1\n",
      "137  SomeCollege    7081364  1998      Q1\n",
      "138           HS    6662468  1998      Q1\n",
      "139         NoHS    1745200  1998      Q1\n",
      "140      College   20174575  1998      Q2\n",
      "141  SomeCollege    7187359  1998      Q2\n",
      "142           HS    6678232  1998      Q2\n",
      "143         NoHS    1742502  1998      Q2\n",
      "144      College   19718014  1998      Q3\n",
      "145  SomeCollege    7005801  1998      Q3\n",
      "146           HS    6736721  1998      Q3\n",
      "147         NoHS    1746187  1998      Q3\n",
      "148      College   21434890  1998      Q4\n",
      "149  SomeCollege    7370613  1998      Q4\n",
      "150           HS    6724430  1998      Q4\n",
      "151         NoHS    1691176  1998      Q4\n",
      "        Category  Net worth  Year Quarter\n",
      "152      College   21682571  1999      Q1\n",
      "153  SomeCollege    7435906  1999      Q1\n",
      "154           HS    6727966  1999      Q1\n",
      "155         NoHS    1696906  1999      Q1\n",
      "156      College   22520222  1999      Q2\n",
      "157  SomeCollege    7604220  1999      Q2\n",
      "158           HS    6723016  1999      Q2\n",
      "159         NoHS    1701199  1999      Q2\n",
      "160      College   22408899  1999      Q3\n",
      "161  SomeCollege    7473611  1999      Q3\n",
      "162           HS    6828257  1999      Q3\n",
      "163         NoHS    1769518  1999      Q3\n",
      "164      College   24319357  1999      Q4\n",
      "165  SomeCollege    7897486  1999      Q4\n",
      "166           HS    6994343  1999      Q4\n",
      "167         NoHS    1788141  1999      Q4\n",
      "        Category  Net worth  Year Quarter\n",
      "168      College   25194316  2000      Q1\n",
      "169  SomeCollege    8090873  2000      Q1\n",
      "170           HS    7109740  2000      Q1\n",
      "171         NoHS    1843454  2000      Q1\n",
      "172      College   24984408  2000      Q2\n",
      "173  SomeCollege    8005950  2000      Q2\n",
      "174           HS    7116199  2000      Q2\n",
      "175         NoHS    1928253  2000      Q2\n",
      "176      College   25471664  2000      Q3\n",
      "177  SomeCollege    8016064  2000      Q3\n",
      "178           HS    7268789  2000      Q3\n",
      "179         NoHS    1959231  2000      Q3\n",
      "180      College   25197996  2000      Q4\n",
      "181  SomeCollege    7798811  2000      Q4\n",
      "182           HS    7210990  2000      Q4\n",
      "183         NoHS    2032618  2000      Q4\n",
      "        Category  Net worth  Year Quarter\n",
      "184      College   25288284  2001      Q1\n",
      "185  SomeCollege    7637773  2001      Q1\n",
      "186           HS    7132731  2001      Q1\n",
      "187         NoHS    2130304  2001      Q1\n",
      "188      College   26354897  2001      Q2\n",
      "189  SomeCollege    7826114  2001      Q2\n",
      "190           HS    7084799  2001      Q2\n",
      "191         NoHS    2097310  2001      Q2\n",
      "192      College   25680464  2001      Q3\n",
      "193  SomeCollege    7498772  2001      Q3\n",
      "194           HS    7040199  2001      Q3\n",
      "195         NoHS    2137995  2001      Q3\n",
      "196      College   26963473  2001      Q4\n",
      "197  SomeCollege    7794122  2001      Q4\n",
      "198           HS    7019888  2001      Q4\n",
      "199         NoHS    2129492  2001      Q4\n",
      "        Category  Net worth  Year Quarter\n",
      "200      College   27398222  2002      Q1\n",
      "201  SomeCollege    7895236  2002      Q1\n",
      "202           HS    7070846  2002      Q1\n",
      "203         NoHS    2170805  2002      Q1\n",
      "204      College   26987185  2002      Q2\n",
      "205  SomeCollege    7730423  2002      Q2\n",
      "206           HS    7037896  2002      Q2\n",
      "207         NoHS    2218195  2002      Q2\n",
      "208      College   26106048  2002      Q3\n",
      "209  SomeCollege    7475165  2002      Q3\n",
      "210           HS    7075688  2002      Q3\n",
      "211         NoHS    2270441  2002      Q3\n",
      "212      College   26942154  2002      Q4\n",
      "213  SomeCollege    7688972  2002      Q4\n",
      "214           HS    7169642  2002      Q4\n",
      "215         NoHS    2274759  2002      Q4\n",
      "        Category  Net worth  Year Quarter\n",
      "216      College   27086694  2003      Q1\n",
      "217  SomeCollege    7661673  2003      Q1\n",
      "218           HS    7198450  2003      Q1\n",
      "219         NoHS    2311279  2003      Q1\n",
      "220      College   28491556  2003      Q2\n",
      "221  SomeCollege    8001288  2003      Q2\n",
      "222           HS    7297197  2003      Q2\n",
      "223         NoHS    2316128  2003      Q2\n",
      "224      College   29069300  2003      Q3\n",
      "225  SomeCollege    8166666  2003      Q3\n",
      "226           HS    7421510  2003      Q3\n",
      "227         NoHS    2335921  2003      Q3\n",
      "228      College   30356988  2003      Q4\n",
      "229  SomeCollege    8582378  2003      Q4\n",
      "230           HS    7673460  2003      Q4\n",
      "231         NoHS    2304590  2003      Q4\n",
      "        Category  Net worth  Year Quarter\n",
      "232      College   32300548  2004      Q1\n",
      "233  SomeCollege    8891610  2004      Q1\n",
      "234           HS    7841211  2004      Q1\n",
      "235         NoHS    2381633  2004      Q1\n",
      "236      College   32671041  2004      Q2\n",
      "237  SomeCollege    9039085  2004      Q2\n",
      "238           HS    8004020  2004      Q2\n",
      "239         NoHS    2395807  2004      Q2\n",
      "240      College   33462396  2004      Q3\n",
      "241  SomeCollege    9223354  2004      Q3\n",
      "242           HS    8259301  2004      Q3\n",
      "243         NoHS    2422040  2004      Q3\n",
      "244      College   35029289  2004      Q4\n",
      "245  SomeCollege    9579977  2004      Q4\n",
      "246           HS    8556587  2004      Q4\n",
      "247         NoHS    2472065  2004      Q4\n",
      "        Category  Net worth  Year Quarter\n",
      "248      College   35644674  2005      Q1\n",
      "249  SomeCollege    9724868  2005      Q1\n",
      "250           HS    8637844  2005      Q1\n",
      "251         NoHS    2509569  2005      Q1\n",
      "252      College   36689504  2005      Q2\n",
      "253  SomeCollege    9972475  2005      Q2\n",
      "254           HS    8855792  2005      Q2\n",
      "255         NoHS    2519894  2005      Q2\n",
      "256      College   37696466  2005      Q3\n",
      "257  SomeCollege   10263168  2005      Q3\n",
      "258           HS    9108594  2005      Q3\n",
      "259         NoHS    2534930  2005      Q3\n",
      "260      College   38658335  2005      Q4\n",
      "261  SomeCollege   10509082  2005      Q4\n",
      "262           HS    9394721  2005      Q4\n",
      "263         NoHS    2573796  2005      Q4\n",
      "        Category  Net worth  Year Quarter\n",
      "264      College   39919563  2006      Q1\n",
      "265  SomeCollege   10777195  2006      Q1\n",
      "266           HS    9618358  2006      Q1\n",
      "267         NoHS    2485131  2006      Q1\n",
      "268      College   39862213  2006      Q2\n",
      "269  SomeCollege   10723423  2006      Q2\n",
      "270           HS    9711529  2006      Q2\n",
      "271         NoHS    2457787  2006      Q2\n",
      "272      College   40570844  2006      Q3\n",
      "273  SomeCollege   10859965  2006      Q3\n",
      "274           HS    9919372  2006      Q3\n",
      "275         NoHS    2423301  2006      Q3\n",
      "276      College   41515249  2006      Q4\n",
      "277  SomeCollege   11113790  2006      Q4\n",
      "278           HS   10146544  2006      Q4\n",
      "279         NoHS    2374921  2006      Q4\n",
      "        Category  Net worth  Year Quarter\n",
      "280      College   42317772  2007      Q1\n",
      "281  SomeCollege   11224217  2007      Q1\n",
      "282           HS   10308354  2007      Q1\n",
      "283         NoHS    2280733  2007      Q1\n",
      "284      College   42679473  2007      Q2\n",
      "285  SomeCollege   11240590  2007      Q2\n",
      "286           HS   10386673  2007      Q2\n",
      "287         NoHS    2171912  2007      Q2\n",
      "288      College   43363785  2007      Q3\n",
      "289  SomeCollege   11232900  2007      Q3\n",
      "290           HS   10458424  2007      Q3\n",
      "291         NoHS    2118150  2007      Q3\n",
      "292      College   43140437  2007      Q4\n",
      "293  SomeCollege   10961358  2007      Q4\n",
      "294           HS   10365844  2007      Q4\n",
      "295         NoHS    2034157  2007      Q4\n",
      "        Category  Net worth  Year Quarter\n",
      "296      College   42121838  2008      Q1\n",
      "297  SomeCollege   10588622  2008      Q1\n",
      "298           HS   10080930  2008      Q1\n",
      "299         NoHS    1885907  2008      Q1\n",
      "300      College   41268230  2008      Q2\n",
      "301  SomeCollege   10322064  2008      Q2\n",
      "302           HS    9892509  2008      Q2\n",
      "303         NoHS    1838127  2008      Q2\n",
      "304      College   40038874  2008      Q3\n",
      "305  SomeCollege    9755921  2008      Q3\n",
      "306           HS    9468469  2008      Q3\n",
      "307         NoHS    1812057  2008      Q3\n",
      "308      College   38076872  2008      Q4\n",
      "309  SomeCollege    9092856  2008      Q4\n",
      "310           HS    9184909  2008      Q4\n",
      "311         NoHS    1791026  2008      Q4\n",
      "        Category  Net worth  Year Quarter\n",
      "312      College   37273280  2009      Q1\n",
      "313  SomeCollege    8904305  2009      Q1\n",
      "314           HS    9092543  2009      Q1\n",
      "315         NoHS    1664772  2009      Q1\n",
      "316      College   37869450  2009      Q2\n",
      "317  SomeCollege    9076357  2009      Q2\n",
      "318           HS    9090058  2009      Q2\n",
      "319         NoHS    1683526  2009      Q2\n",
      "320      College   39366024  2009      Q3\n",
      "321  SomeCollege    9332684  2009      Q3\n",
      "322           HS    9016076  2009      Q3\n",
      "323         NoHS    1656712  2009      Q3\n",
      "324      College   39591280  2009      Q4\n",
      "325  SomeCollege    9243001  2009      Q4\n",
      "326           HS    9129829  2009      Q4\n",
      "327         NoHS    1668974  2009      Q4\n",
      "        Category  Net worth  Year Quarter\n",
      "328      College   40644733  2010      Q1\n",
      "329  SomeCollege    9446260  2010      Q1\n",
      "330           HS    9050541  2010      Q1\n",
      "331         NoHS    1649439  2010      Q1\n",
      "332      College   40358932  2010      Q2\n",
      "333  SomeCollege    9136185  2010      Q2\n",
      "334           HS    9015074  2010      Q2\n",
      "335         NoHS    1672604  2010      Q2\n",
      "336      College   41782927  2010      Q3\n",
      "337  SomeCollege    9431723  2010      Q3\n",
      "338           HS    9317904  2010      Q3\n",
      "339         NoHS    1598480  2010      Q3\n",
      "340      College   42332223  2010      Q4\n",
      "341  SomeCollege    9713290  2010      Q4\n",
      "342           HS    9324653  2010      Q4\n",
      "343         NoHS    1579307  2010      Q4\n",
      "        Category  Net worth  Year Quarter\n",
      "344      College   43219613  2011      Q1\n",
      "345  SomeCollege    9959961  2011      Q1\n",
      "346           HS    9303576  2011      Q1\n",
      "347         NoHS    1579513  2011      Q1\n",
      "348      College   43585189  2011      Q2\n",
      "349  SomeCollege   10033457  2011      Q2\n",
      "350           HS    9265677  2011      Q2\n",
      "351         NoHS    1617358  2011      Q2\n",
      "352      College   42177519  2011      Q3\n",
      "353  SomeCollege    9822567  2011      Q3\n",
      "354           HS    9264495  2011      Q3\n",
      "355         NoHS    1606842  2011      Q3\n",
      "356      College   42887079  2011      Q4\n",
      "357  SomeCollege   10124766  2011      Q4\n",
      "358           HS    9513741  2011      Q4\n",
      "359         NoHS    1560529  2011      Q4\n",
      "        Category  Net worth  Year Quarter\n",
      "360      College   44303416  2012      Q1\n",
      "361  SomeCollege   10595735  2012      Q1\n",
      "362           HS    9603356  2012      Q1\n",
      "363         NoHS    1525070  2012      Q1\n",
      "364      College   44303125  2012      Q2\n",
      "365  SomeCollege   10652010  2012      Q2\n",
      "366           HS    9554118  2012      Q2\n",
      "367         NoHS    1549876  2012      Q2\n",
      "368      College   45600214  2012      Q3\n",
      "369  SomeCollege   11035527  2012      Q3\n",
      "370           HS    9796556  2012      Q3\n",
      "371         NoHS    1528147  2012      Q3\n",
      "372      College   46147317  2012      Q4\n",
      "373  SomeCollege   11243479  2012      Q4\n",
      "374           HS    9989531  2012      Q4\n",
      "375         NoHS    1542113  2012      Q4\n",
      "        Category  Net worth  Year Quarter\n",
      "376      College   48323085  2013      Q1\n",
      "377  SomeCollege   11777999  2013      Q1\n",
      "378           HS   10052564  2013      Q1\n",
      "379         NoHS    1570097  2013      Q1\n",
      "380      College   48987934  2013      Q2\n",
      "381  SomeCollege   12080943  2013      Q2\n",
      "382           HS   10113172  2013      Q2\n",
      "383         NoHS    1570258  2013      Q2\n",
      "384      College   50587695  2013      Q3\n",
      "385  SomeCollege   12503894  2013      Q3\n",
      "386           HS   10437693  2013      Q3\n",
      "387         NoHS    1590483  2013      Q3\n",
      "388      College   52212369  2013      Q4\n",
      "389  SomeCollege   12722784  2013      Q4\n",
      "390           HS   10431025  2013      Q4\n",
      "391         NoHS    1701010  2013      Q4\n",
      "        Category  Net worth  Year Quarter\n",
      "392      College   53702626  2014      Q1\n",
      "393  SomeCollege   12872819  2014      Q1\n",
      "394           HS   10350175  2014      Q1\n",
      "395         NoHS    1831340  2014      Q1\n",
      "396      College   55170317  2014      Q2\n",
      "397  SomeCollege   13062770  2014      Q2\n",
      "398           HS   10406805  2014      Q2\n",
      "399         NoHS    1912627  2014      Q2\n",
      "400      College   55716256  2014      Q3\n",
      "401  SomeCollege   13120628  2014      Q3\n",
      "402           HS   10223852  2014      Q3\n",
      "403         NoHS    2027227  2014      Q3\n",
      "404      College   57283176  2014      Q4\n",
      "405  SomeCollege   13242766  2014      Q4\n",
      "406           HS   10181715  2014      Q4\n",
      "407         NoHS    2139643  2014      Q4\n",
      "        Category  Net worth  Year Quarter\n",
      "408      College   58786847  2015      Q1\n",
      "409  SomeCollege   13385737  2015      Q1\n",
      "410           HS   10168714  2015      Q1\n",
      "411         NoHS    2266452  2015      Q1\n",
      "412      College   59296231  2015      Q2\n",
      "413  SomeCollege   13398504  2015      Q2\n",
      "414           HS   10052469  2015      Q2\n",
      "415         NoHS    2377679  2015      Q2\n",
      "416      College   58644946  2015      Q3\n",
      "417  SomeCollege   13129951  2015      Q3\n",
      "418           HS    9894602  2015      Q3\n",
      "419         NoHS    2509261  2015      Q3\n",
      "420      College   59931143  2015      Q4\n",
      "421  SomeCollege   13295042  2015      Q4\n",
      "422           HS    9870093  2015      Q4\n",
      "423         NoHS    2635068  2015      Q4\n",
      "        Category  Net worth  Year Quarter\n",
      "424      College   60971644  2016      Q1\n",
      "425  SomeCollege   13482278  2016      Q1\n",
      "426           HS    9730992  2016      Q1\n",
      "427         NoHS    2770003  2016      Q1\n",
      "428      College   62145066  2016      Q2\n",
      "429  SomeCollege   13662125  2016      Q2\n",
      "430           HS    9628580  2016      Q2\n",
      "431         NoHS    2875813  2016      Q2\n",
      "432      College   63483734  2016      Q3\n",
      "433  SomeCollege   13856424  2016      Q3\n",
      "434           HS    9694701  2016      Q3\n",
      "435         NoHS    2962226  2016      Q3\n",
      "436      College   63988735  2016      Q4\n",
      "437  SomeCollege   14001832  2016      Q4\n",
      "438           HS    9769042  2016      Q4\n",
      "439         NoHS    2921274  2016      Q4\n",
      "        Category  Net worth  Year Quarter\n",
      "440      College   65802572  2017      Q1\n",
      "441  SomeCollege   14520529  2017      Q1\n",
      "442           HS    9924757  2017      Q1\n",
      "443         NoHS    2887499  2017      Q1\n",
      "444      College   66832550  2017      Q2\n",
      "445  SomeCollege   14880815  2017      Q2\n",
      "446           HS   10202336  2017      Q2\n",
      "447         NoHS    2799094  2017      Q2\n",
      "448      College   68148972  2017      Q3\n",
      "449  SomeCollege   15278283  2017      Q3\n",
      "450           HS   10406444  2017      Q3\n",
      "451         NoHS    2736042  2017      Q3\n",
      "452      College   70084763  2017      Q4\n",
      "453  SomeCollege   15748095  2017      Q4\n",
      "454           HS   10631762  2017      Q4\n",
      "455         NoHS    2667178  2017      Q4\n",
      "        Category  Net worth  Year Quarter\n",
      "456      College   70464704  2018      Q1\n",
      "457  SomeCollege   16013193  2018      Q1\n",
      "458           HS   10789513  2018      Q1\n",
      "459         NoHS    2607099  2018      Q1\n",
      "460      College   71431635  2018      Q2\n",
      "461  SomeCollege   16356146  2018      Q2\n",
      "462           HS   11008626  2018      Q2\n",
      "463         NoHS    2506923  2018      Q2\n",
      "464      College   72900314  2018      Q3\n",
      "465  SomeCollege   16872702  2018      Q3\n",
      "466           HS   11076854  2018      Q3\n",
      "467         NoHS    2406006  2018      Q3\n",
      "468      College   69946359  2018      Q4\n",
      "469  SomeCollege   16184158  2018      Q4\n",
      "470           HS   11006155  2018      Q4\n",
      "471         NoHS    2470041  2018      Q4\n",
      "        Category  Net worth  Year Quarter\n",
      "472      College   74519784  2019      Q1\n",
      "473  SomeCollege   17185524  2019      Q1\n",
      "474           HS   11307999  2019      Q1\n",
      "475         NoHS    2411876  2019      Q1\n",
      "476      College   75929783  2019      Q2\n",
      "477  SomeCollege   17599648  2019      Q2\n",
      "478           HS   11539592  2019      Q2\n",
      "479         NoHS    2286431  2019      Q2\n",
      "480      College   76551661  2019      Q3\n",
      "481  SomeCollege   17851148  2019      Q3\n",
      "482           HS   11738572  2019      Q3\n",
      "483         NoHS    2170731  2019      Q3\n",
      "484      College   79188563  2019      Q4\n",
      "485  SomeCollege   18597224  2019      Q4\n",
      "486           HS   11885808  2019      Q4\n",
      "487         NoHS    2129914  2019      Q4\n",
      "        Category  Net worth  Year Quarter\n",
      "488      College   73505780  2020      Q1\n",
      "489  SomeCollege   17244146  2020      Q1\n",
      "490           HS   11606459  2020      Q1\n",
      "491         NoHS    2291732  2020      Q1\n",
      "492      College   79306192  2020      Q2\n",
      "493  SomeCollege   18645765  2020      Q2\n",
      "494           HS   11862690  2020      Q2\n",
      "495         NoHS    2237634  2020      Q2\n"
     ]
    },
    {
     "data": {
      "text/html": [
       "<div>\n",
       "<style scoped>\n",
       "    .dataframe tbody tr th:only-of-type {\n",
       "        vertical-align: middle;\n",
       "    }\n",
       "\n",
       "    .dataframe tbody tr th {\n",
       "        vertical-align: top;\n",
       "    }\n",
       "\n",
       "    .dataframe thead th {\n",
       "        text-align: right;\n",
       "    }\n",
       "</style>\n",
       "<table border=\"1\" class=\"dataframe\">\n",
       "  <thead>\n",
       "    <tr style=\"text-align: right;\">\n",
       "      <th></th>\n",
       "    </tr>\n",
       "  </thead>\n",
       "  <tbody>\n",
       "  </tbody>\n",
       "</table>\n",
       "</div>"
      ],
      "text/plain": [
       "Empty DataFrame\n",
       "Columns: []\n",
       "Index: []"
      ]
     },
     "execution_count": 60,
     "metadata": {},
     "output_type": "execute_result"
    }
   ],
   "source": [
    "education.groupby('Year').apply(print)"
   ]
  },
  {
   "cell_type": "code",
   "execution_count": 61,
   "metadata": {},
   "outputs": [],
   "source": [
    "## create list of years for each data point after looking at quarters\n",
    "import numpy as np\n",
    "year_init = list(np.arange(1990, 2020))*4\n",
    "year_init.extend([1989, 1989, 2020, 2020])\n",
    "years = np.sort(year_init)"
   ]
  },
  {
   "cell_type": "code",
   "execution_count": 62,
   "metadata": {
    "scrolled": false
   },
   "outputs": [
    {
     "data": {
      "text/html": [
       "<div>\n",
       "<style scoped>\n",
       "    .dataframe tbody tr th:only-of-type {\n",
       "        vertical-align: middle;\n",
       "    }\n",
       "\n",
       "    .dataframe tbody tr th {\n",
       "        vertical-align: top;\n",
       "    }\n",
       "\n",
       "    .dataframe thead th {\n",
       "        text-align: right;\n",
       "    }\n",
       "</style>\n",
       "<table border=\"1\" class=\"dataframe\">\n",
       "  <thead>\n",
       "    <tr style=\"text-align: right;\">\n",
       "      <th>Category</th>\n",
       "      <th>College</th>\n",
       "      <th>HS</th>\n",
       "      <th>NoHS</th>\n",
       "      <th>SomeCollege</th>\n",
       "      <th>Year</th>\n",
       "    </tr>\n",
       "  </thead>\n",
       "  <tbody>\n",
       "    <tr>\n",
       "      <th>0</th>\n",
       "      <td>10069957</td>\n",
       "      <td>4182626</td>\n",
       "      <td>2251459</td>\n",
       "      <td>3927113</td>\n",
       "      <td>1989</td>\n",
       "    </tr>\n",
       "    <tr>\n",
       "      <th>1</th>\n",
       "      <td>10432985</td>\n",
       "      <td>4177110</td>\n",
       "      <td>2213354</td>\n",
       "      <td>3992339</td>\n",
       "      <td>1989</td>\n",
       "    </tr>\n",
       "    <tr>\n",
       "      <th>2</th>\n",
       "      <td>10509133</td>\n",
       "      <td>4199956</td>\n",
       "      <td>2204833</td>\n",
       "      <td>4039942</td>\n",
       "      <td>1990</td>\n",
       "    </tr>\n",
       "    <tr>\n",
       "      <th>3</th>\n",
       "      <td>10669228</td>\n",
       "      <td>4204755</td>\n",
       "      <td>2193180</td>\n",
       "      <td>4115884</td>\n",
       "      <td>1990</td>\n",
       "    </tr>\n",
       "    <tr>\n",
       "      <th>4</th>\n",
       "      <td>10514904</td>\n",
       "      <td>4240137</td>\n",
       "      <td>2184287</td>\n",
       "      <td>4091622</td>\n",
       "      <td>1990</td>\n",
       "    </tr>\n",
       "  </tbody>\n",
       "</table>\n",
       "</div>"
      ],
      "text/plain": [
       "Category   College       HS     NoHS  SomeCollege  Year\n",
       "0         10069957  4182626  2251459      3927113  1989\n",
       "1         10432985  4177110  2213354      3992339  1989\n",
       "2         10509133  4199956  2204833      4039942  1990\n",
       "3         10669228  4204755  2193180      4115884  1990\n",
       "4         10514904  4240137  2184287      4091622  1990"
      ]
     },
     "execution_count": 62,
     "metadata": {},
     "output_type": "execute_result"
    }
   ],
   "source": [
    "## add year to dataset and split the categories to columns\n",
    "s = education.groupby('Category')['Net worth'].apply(list)\n",
    "edu_split = s.apply(pd.Series).T\n",
    "edu_split['Year'] = years\n",
    "edu_split.head()"
   ]
  },
  {
   "cell_type": "code",
   "execution_count": 63,
   "metadata": {
    "scrolled": true
   },
   "outputs": [
    {
     "data": {
      "text/html": [
       "<div>\n",
       "<style scoped>\n",
       "    .dataframe tbody tr th:only-of-type {\n",
       "        vertical-align: middle;\n",
       "    }\n",
       "\n",
       "    .dataframe tbody tr th {\n",
       "        vertical-align: top;\n",
       "    }\n",
       "\n",
       "    .dataframe thead th {\n",
       "        text-align: right;\n",
       "    }\n",
       "</style>\n",
       "<table border=\"1\" class=\"dataframe\">\n",
       "  <thead>\n",
       "    <tr style=\"text-align: right;\">\n",
       "      <th>Category</th>\n",
       "      <th>College</th>\n",
       "      <th>HS</th>\n",
       "      <th>NoHS</th>\n",
       "      <th>SomeCollege</th>\n",
       "    </tr>\n",
       "    <tr>\n",
       "      <th>Year</th>\n",
       "      <th></th>\n",
       "      <th></th>\n",
       "      <th></th>\n",
       "      <th></th>\n",
       "    </tr>\n",
       "  </thead>\n",
       "  <tbody>\n",
       "    <tr>\n",
       "      <th>1989</th>\n",
       "      <td>10251471.00</td>\n",
       "      <td>4179868.00</td>\n",
       "      <td>2232406.50</td>\n",
       "      <td>3959726.00</td>\n",
       "    </tr>\n",
       "    <tr>\n",
       "      <th>1990</th>\n",
       "      <td>10652312.75</td>\n",
       "      <td>4220006.75</td>\n",
       "      <td>2177171.25</td>\n",
       "      <td>4105467.75</td>\n",
       "    </tr>\n",
       "    <tr>\n",
       "      <th>1991</th>\n",
       "      <td>11628279.25</td>\n",
       "      <td>4316600.75</td>\n",
       "      <td>1966321.50</td>\n",
       "      <td>4420049.50</td>\n",
       "    </tr>\n",
       "    <tr>\n",
       "      <th>1992</th>\n",
       "      <td>12378684.50</td>\n",
       "      <td>4461190.00</td>\n",
       "      <td>1835193.50</td>\n",
       "      <td>4746425.00</td>\n",
       "    </tr>\n",
       "    <tr>\n",
       "      <th>1993</th>\n",
       "      <td>13154214.50</td>\n",
       "      <td>4760919.75</td>\n",
       "      <td>1893918.00</td>\n",
       "      <td>5057583.00</td>\n",
       "    </tr>\n",
       "  </tbody>\n",
       "</table>\n",
       "</div>"
      ],
      "text/plain": [
       "Category      College          HS        NoHS  SomeCollege\n",
       "Year                                                      \n",
       "1989      10251471.00  4179868.00  2232406.50   3959726.00\n",
       "1990      10652312.75  4220006.75  2177171.25   4105467.75\n",
       "1991      11628279.25  4316600.75  1966321.50   4420049.50\n",
       "1992      12378684.50  4461190.00  1835193.50   4746425.00\n",
       "1993      13154214.50  4760919.75  1893918.00   5057583.00"
      ]
     },
     "execution_count": 63,
     "metadata": {},
     "output_type": "execute_result"
    }
   ],
   "source": [
    "## take wealth and average it by year, then drop year so it doesn't affect our distribution\n",
    "edu_avg = edu_split.groupby('Year').apply(np.mean)\n",
    "edu_avg = edu_avg.drop(columns='Year')\n",
    "edu_avg.head()"
   ]
  },
  {
   "cell_type": "code",
   "execution_count": 64,
   "metadata": {
    "scrolled": true
   },
   "outputs": [],
   "source": [
    "## import necessary libraries for machine learning and additional plotting\n",
    "import tensorflow as tf\n",
    "from tensorflow import keras\n",
    "from pandas.plotting import register_matplotlib_converters"
   ]
  },
  {
   "cell_type": "code",
   "execution_count": 65,
   "metadata": {},
   "outputs": [],
   "source": [
    "# set our education dataset to df\n",
    "df = edu_avg"
   ]
  },
  {
   "cell_type": "code",
   "execution_count": 66,
   "metadata": {},
   "outputs": [
    {
     "name": "stdout",
     "output_type": "stream",
     "text": [
      "19 13\n"
     ]
    }
   ],
   "source": [
    "## split our data into train and test (since this is a time series model, we cannot use train_test_split bc it randomizes)\n",
    "train_size = int(len(df) * 0.6)\n",
    "test_size = len(df) - train_size\n",
    "train, test = df.iloc[0:train_size], df.iloc[train_size:len(df)]\n",
    "print(len(train), len(test))\n"
   ]
  },
  {
   "cell_type": "code",
   "execution_count": 67,
   "metadata": {},
   "outputs": [],
   "source": [
    "## scale the data/features by which feature we want to predict\n",
    "## since we already averaged out the inital dataset, we can just use the standard scaler\n",
    "\n",
    "from sklearn.preprocessing import StandardScaler\n",
    "\n",
    "f_columns = ['College', 'NoHS','SomeCollege']\n",
    "\n",
    "f_transformer = StandardScaler();\n",
    "cnt_transformer = StandardScaler();\n",
    "\n",
    "f_transformer = f_transformer.fit(train[f_columns].to_numpy());\n",
    "cnt_transformer = cnt_transformer.fit(train[['HS']]);\n",
    "\n",
    "train.loc[:, f_columns] = f_transformer.transform(train[f_columns].to_numpy());\n",
    "train['HS'] = cnt_transformer.transform(train[['HS']]);\n",
    "\n",
    "test.loc[:, f_columns] = f_transformer.transform(test[f_columns].to_numpy());\n",
    "test['HS'] = cnt_transformer.transform(test[['HS']]);"
   ]
  },
  {
   "cell_type": "code",
   "execution_count": 68,
   "metadata": {},
   "outputs": [],
   "source": [
    "## function to reshape our feature so it can be used in keras\n",
    "def create_dataset(X, y, time_steps=1):\n",
    "    Xs, ys = [], []\n",
    "    for i in range(len(X) - time_steps):\n",
    "        v = X.iloc[i:(i + time_steps)].values\n",
    "        Xs.append(v)        \n",
    "        ys.append(y.iloc[i + time_steps])\n",
    "        \n",
    "    return np.array(Xs), np.array(ys)"
   ]
  },
  {
   "cell_type": "code",
   "execution_count": 69,
   "metadata": {},
   "outputs": [],
   "source": [
    "## the time step that we will fit by is 1 since it is a yearly dataset\n",
    "time_steps = 1\n",
    "\n",
    "features_train = train.HS\n",
    "features_test = test.HS\n",
    "\n",
    "X_train, y_train = create_dataset(train, features_train, time_steps)\n",
    "X_test, y_test = create_dataset(test, features_test, time_steps)\n",
    "X_train = X_train.astype('float32')\n",
    "y_train = y_train.astype('float32')\n",
    "X_test = X_test.astype('float32')\n",
    "y_test = y_test.astype('float32')\n"
   ]
  },
  {
   "cell_type": "code",
   "execution_count": 70,
   "metadata": {},
   "outputs": [],
   "source": [
    "## building our model\n",
    "## the model is bidrectional since it is a time series model, we will take information from each time step to predict the next\n",
    "model = keras.Sequential()\n",
    "model.add(\n",
    "  keras.layers.Bidirectional(\n",
    "    keras.layers.LSTM(\n",
    "      units=128, \n",
    "      input_shape=(X_train.shape)\n",
    "    )\n",
    "  )\n",
    ")\n",
    "model.add(keras.layers.Dropout(rate=0.2))\n",
    "model.add(keras.layers.Dense(units=1))\n",
    "model.compile(loss='mean_squared_error', optimizer='adam')"
   ]
  },
  {
   "cell_type": "code",
   "execution_count": 71,
   "metadata": {},
   "outputs": [],
   "source": [
    "## fitting our model\n",
    "history = model.fit(\n",
    "    X_train, y_train, \n",
    "    epochs=30, \n",
    "    batch_size=32, \n",
    "    validation_split=0.1,\n",
    "    shuffle=False, \n",
    "    verbose=0\n",
    ")"
   ]
  },
  {
   "cell_type": "code",
   "execution_count": 72,
   "metadata": {
    "scrolled": true
   },
   "outputs": [
    {
     "data": {
      "image/png": "[encoded data removed]",
      "text/plain": [
       "<Figure size 432x288 with 1 Axes>"
      ]
     },
     "metadata": {
      "needs_background": "light"
     },
     "output_type": "display_data"
    }
   ],
   "source": [
    "## looking at how well our model did\n",
    "plt.plot(history.history['loss'], label='loss')\n",
    "plt.plot(history.history['val_loss'], label='validation loss')\n",
    "plt.xlabel('epoch')\n",
    "plt.legend();"
   ]
  },
  {
   "cell_type": "markdown",
   "metadata": {},
   "source": [
    "Here, we see that loss is decreasing every epoch, which means that the accuracy of our model is increasing as it is being trained."
   ]
  },
  {
   "cell_type": "code",
   "execution_count": 73,
   "metadata": {},
   "outputs": [
    {
     "name": "stdout",
     "output_type": "stream",
     "text": [
      "WARNING:tensorflow:6 out of the last 6 calls to <function Model.make_predict_function.<locals>.predict_function at 0x000002DA870B1EE0> triggered tf.function retracing. Tracing is expensive and the excessive number of tracings could be due to (1) creating @tf.function repeatedly in a loop, (2) passing tensors with different shapes, (3) passing Python objects instead of tensors. For (1), please define your @tf.function outside of the loop. For (2), @tf.function has experimental_relax_shapes=True option that relaxes argument shapes that can avoid unnecessary retracing. For (3), please refer to https://www.tensorflow.org/tutorials/customization/performance#python_or_tensor_args and https://www.tensorflow.org/api_docs/python/tf/function for  more details.\n"
     ]
    },
    {
     "data": {
      "text/plain": [
       "array([[0.5686678 ],\n",
       "       [0.36071557],\n",
       "       [0.3883806 ],\n",
       "       [0.42489606],\n",
       "       [0.48308307],\n",
       "       [0.64910823],\n",
       "       [0.94610393],\n",
       "       [1.2784382 ],\n",
       "       [1.5847913 ],\n",
       "       [1.590051  ],\n",
       "       [1.4609843 ],\n",
       "       [1.3358649 ]], dtype=float32)"
      ]
     },
     "execution_count": 73,
     "metadata": {},
     "output_type": "execute_result"
    }
   ],
   "source": [
    "## predicting our model using the test data\n",
    "y_pred = model.predict(X_test)\n",
    "y_pred"
   ]
  },
  {
   "cell_type": "code",
   "execution_count": 74,
   "metadata": {
    "scrolled": true
   },
   "outputs": [],
   "source": [
    "## since our data is currently scaled, we have to un-scale it\n",
    "y_pred = cnt_transformer.inverse_transform(y_pred)"
   ]
  },
  {
   "cell_type": "code",
   "execution_count": 75,
   "metadata": {},
   "outputs": [
    {
     "data": {
      "text/plain": [
       "array([[7603908.5],\n",
       "       [7227171. ],\n",
       "       [7277290.5],\n",
       "       [7343444. ],\n",
       "       [7448858.5],\n",
       "       [7749638.5],\n",
       "       [8287691.5],\n",
       "       [8889766. ],\n",
       "       [9444772. ],\n",
       "       [9454300. ],\n",
       "       [9220476. ],\n",
       "       [8993803. ]], dtype=float32)"
      ]
     },
     "execution_count": 75,
     "metadata": {},
     "output_type": "execute_result"
    }
   ],
   "source": [
    "## what the model predicted the wealth of high school graduates will be in years 2008-2020\n",
    "y_pred"
   ]
  },
  {
   "cell_type": "code",
   "execution_count": 76,
   "metadata": {},
   "outputs": [
    {
     "name": "stdout",
     "output_type": "stream",
     "text": [
      "Accuracy: 81.01863924845595\n"
     ]
    }
   ],
   "source": [
    "## average accuracy of the model predicting this feature\n",
    "acc = (cnt_transformer.inverse_transform(test.HS)[1:]/y_pred.reshape(-1))**-1\n",
    "print('Accuracy:', np.mean(acc)*100)"
   ]
  },
  {
   "cell_type": "code",
   "execution_count": 77,
   "metadata": {},
   "outputs": [
    {
     "data": {
      "text/plain": [
       "Text(0, 0.5, 'Net worth')"
      ]
     },
     "execution_count": 77,
     "metadata": {},
     "output_type": "execute_result"
    },
    {
     "data": {
      "image/png": "[encoded data removed]",
      "text/plain": [
       "<Figure size 432x288 with 1 Axes>"
      ]
     },
     "metadata": {
      "needs_background": "light"
     },
     "output_type": "display_data"
    }
   ],
   "source": [
    "#graphing our prediciotn vs. the actual with all the categories on plot\n",
    "edu_avg = edu_split.groupby('Year').apply(np.mean)\n",
    "edu_avg.plot()\n",
    "plt.plot(np.array(test.index)[1:], y_pred, label='prediction', color='black')\n",
    "plt.title('Model fit for High School Grads (with College on plot)')\n",
    "plt.ylabel('Net worth')"
   ]
  },
  {
   "cell_type": "code",
   "execution_count": 78,
   "metadata": {},
   "outputs": [
    {
     "data": {
      "text/plain": [
       "Text(0, 0.5, 'Net worth')"
      ]
     },
     "execution_count": 78,
     "metadata": {},
     "output_type": "execute_result"
    },
    {
     "data": {
      "image/png": "[encoded data removed]",
      "text/plain": [
       "<Figure size 432x288 with 1 Axes>"
      ]
     },
     "metadata": {
      "needs_background": "light"
     },
     "output_type": "display_data"
    }
   ],
   "source": [
    "## plotting one without the college category to zoom in on our prediction vs. actual\n",
    "edu_avg[['HS', 'NoHS', 'SomeCollege']].plot()\n",
    "plt.plot(np.array(test.index)[1:], y_pred, label='prediction', color='black')\n",
    "plt.legend()\n",
    "plt.title('Model fit for High School Grads (without College on plot)')\n",
    "plt.ylabel('Net worth')"
   ]
  },
  {
   "cell_type": "markdown",
   "metadata": {},
   "source": [
    "### Presentation of Results"
   ]
  },
  {
   "cell_type": "markdown",
   "metadata": {},
   "source": [
    "Now that our model works, we can write some functions so that we don't have to do these steps for every dataset/features."
   ]
  },
  {
   "cell_type": "code",
   "execution_count": 79,
   "metadata": {},
   "outputs": [],
   "source": [
    "## function to average the dataset's net worth by year and change categories to columns\n",
    "def wealth_avg(df):\n",
    "    # the years will be the same since our datasets are collected throughout the same time period\n",
    "    year_init = list(np.arange(1990, 2020))*4\n",
    "    year_init.extend([1989, 1989, 2020, 2020])\n",
    "    years = np.sort(year_init)\n",
    "    \n",
    "    # change our categories to be columns and add year as a column\n",
    "    s = df.groupby('Category')['Net worth'].apply(list)\n",
    "    df_split = s.apply(pd.Series).T\n",
    "    df_split['Year'] = years\n",
    "\n",
    "    # average out the wet worth by year\n",
    "    df_avg = df_split.groupby('Year').apply(np.mean)\n",
    "    df_avg = df_avg.drop(columns='Year')\n",
    "    return df_avg"
   ]
  },
  {
   "cell_type": "code",
   "execution_count": 80,
   "metadata": {},
   "outputs": [],
   "source": [
    "## function to split our data up into training and testing sets for time series\n",
    "def train_test_split(df, train_size):\n",
    "    train_size = int(len(df) * train_size)\n",
    "    test_size = len(df) - train_size\n",
    "    train, test = df.iloc[0:train_size], df.iloc[train_size:len(df)]\n",
    "    print('Length of training set:', len(train))\n",
    "    print('Length of testing set:', len(test))\n",
    "    return train, test"
   ]
  },
  {
   "cell_type": "code",
   "execution_count": 81,
   "metadata": {},
   "outputs": [],
   "source": [
    "## this will be the big function where we scale the data, build the model, fit, then predict\n",
    "def neural_network(df, feature, epoch_number):\n",
    "    ##scaling\n",
    "    f_columns = list(df.columns[df.columns != feature])\n",
    "\n",
    "    f_transformer = StandardScaler();\n",
    "    cnt_transformer = StandardScaler();\n",
    "\n",
    "    f_transformer = f_transformer.fit(train[f_columns].to_numpy());\n",
    "    cnt_transformer = cnt_transformer.fit(train[[feature]]);\n",
    "\n",
    "    train.loc[:, f_columns] = f_transformer.transform(train[f_columns].to_numpy());\n",
    "    train[feature] = cnt_transformer.transform(train[[feature]]);\n",
    "\n",
    "    test.loc[:, f_columns] = f_transformer.transform(test[f_columns].to_numpy());\n",
    "    test[feature] = cnt_transformer.transform(test[[feature]]);\n",
    "    \n",
    "    ## reshape our feature so it can be used in keras\n",
    "    time_steps = 1\n",
    "\n",
    "    features_train = train[feature]\n",
    "    features_test = test[feature]\n",
    "\n",
    "    X_train, y_train = create_dataset(train, features_train, time_steps)\n",
    "    X_test, y_test = create_dataset(test, features_test, time_steps)\n",
    "    X_train = X_train.astype('float32')\n",
    "    y_train = y_train.astype('float32')\n",
    "    X_test = X_test.astype('float32')\n",
    "    y_test = y_test.astype('float32')\n",
    "\n",
    "    ## model\n",
    "    model = keras.Sequential()\n",
    "    model.add(\n",
    "      keras.layers.Bidirectional(\n",
    "        keras.layers.LSTM(\n",
    "          units=128, \n",
    "          input_shape=(X_train.shape)\n",
    "        )\n",
    "      )\n",
    "    )\n",
    "    model.add(keras.layers.Dropout(rate=0.2))\n",
    "    model.add(keras.layers.Dense(units=1))\n",
    "    model.compile(loss='mean_squared_error', optimizer='adam')\n",
    "    \n",
    "    ## fit\n",
    "    history = model.fit(\n",
    "    X_train, y_train, \n",
    "    epochs=epoch_number, \n",
    "    batch_size=32, \n",
    "    validation_split=0.1,\n",
    "    shuffle=False,\n",
    "    verbose=0 #we won't want to print every epoch this time\n",
    "    )\n",
    "    \n",
    "    # loss plot to check how well our model did\n",
    "    plt.plot(history.history['loss'], label='loss')\n",
    "    plt.plot(history.history['val_loss'], label='validation loss')\n",
    "    plt.xlabel('epochs')\n",
    "    plt.legend();\n",
    "    \n",
    "    ## predict\n",
    "    y_pred_scaled = model.predict(X_test)\n",
    "    y_pred = cnt_transformer.inverse_transform(y_pred_scaled)\n",
    "    \n",
    "    ## average accuracy of our model\n",
    "    acc = (cnt_transformer.inverse_transform(test[feature])[1:]/y_pred.reshape(-1))**-1\n",
    "    print('Accuracy:', np.mean(acc)*100)\n",
    "\n",
    "    return y_pred"
   ]
  },
  {
   "cell_type": "code",
   "execution_count": 82,
   "metadata": {},
   "outputs": [
    {
     "name": "stdout",
     "output_type": "stream",
     "text": [
      "Length of training set: 19\n",
      "Length of testing set: 13\n",
      "WARNING:tensorflow:7 out of the last 7 calls to <function Model.make_predict_function.<locals>.predict_function at 0x000002DA8CCB61F0> triggered tf.function retracing. Tracing is expensive and the excessive number of tracings could be due to (1) creating @tf.function repeatedly in a loop, (2) passing tensors with different shapes, (3) passing Python objects instead of tensors. For (1), please define your @tf.function outside of the loop. For (2), @tf.function has experimental_relax_shapes=True option that relaxes argument shapes that can avoid unnecessary retracing. For (3), please refer to https://www.tensorflow.org/tutorials/customization/performance#python_or_tensor_args and https://www.tensorflow.org/api_docs/python/tf/function for  more details.\n",
      "Accuracy: 74.91759244912764\n"
     ]
    },
    {
     "data": {
      "image/png": "[encoded data removed]",
      "text/plain": [
       "<Figure size 432x288 with 1 Axes>"
      ]
     },
     "metadata": {
      "needs_background": "light"
     },
     "output_type": "display_data"
    }
   ],
   "source": [
    "## using our functions to predict wealth\n",
    "race_avg = wealth_avg(race)\n",
    "train, test = train_test_split(race_avg, train_size = 0.6)\n",
    "y_pred = neural_network(df=race_avg, feature='White', epoch_number=30)"
   ]
  },
  {
   "cell_type": "code",
   "execution_count": 83,
   "metadata": {},
   "outputs": [
    {
     "data": {
      "text/plain": [
       "Text(0, 0.5, 'Net worth')"
      ]
     },
     "execution_count": 83,
     "metadata": {},
     "output_type": "execute_result"
    },
    {
     "data": {
      "image/png": "[encoded data removed]",
      "text/plain": [
       "<Figure size 432x288 with 1 Axes>"
      ]
     },
     "metadata": {
      "needs_background": "light"
     },
     "output_type": "display_data"
    }
   ],
   "source": [
    "## we will have to call the wealth_avg function again since our race_avg got written over\n",
    "race_avg = wealth_avg(race)\n",
    "race_avg.plot()\n",
    "plt.plot(np.array(test.index)[1:], y_pred, label='prediction', color='black')\n",
    "plt.legend()\n",
    "plt.ylabel('Net worth')"
   ]
  },
  {
   "cell_type": "markdown",
   "metadata": {},
   "source": [
    "Here, we see that our prediction wasn't the best. This is due to the fact that we split our data in such a way that our model is predicting **after** 2008, which is when the economic recession was. This year not only caused the trend in wealth to abruptly decrease, but also created an exponential growth in wealth of people in the following years of people who weren't affected much by the recession (in this case, White people). Because our model is a time series model, it's unable to predict the growth in wealth because the last time step trend in the training dataset was a decreasing one. As a result, the time series model predicted the wealth based on the decreasing trend, making it not as accurate."
   ]
  },
  {
   "cell_type": "markdown",
   "metadata": {},
   "source": [
    "**Sources**: \n",
    "1. https://www.federalreserve.gov/releases/z1/dataviz/dfa/distribute/table/\n",
    "1. https://towardsdatascience.com/demand-prediction-with-lstms-using-tensorflow-2-and-keras-in-python-1d1076fc89a0\n",
    "1. https://colab.research.google.com/drive/1k3PLdczAJOIrIprfhjZ-IRXzNhFJ_OTN#scrollTo=Tz9KofSH-51- "
   ]
  }
 ],
 "metadata": {
  "kernelspec": {
   "display_name": "Python 3",
   "language": "python",
   "name": "python3"
  },
  "language_info": {
   "codemirror_mode": {
    "name": "ipython",
    "version": 3
   },
   "file_extension": ".py",
   "mimetype": "text/x-python",
   "name": "python",
   "nbconvert_exporter": "python",
   "pygments_lexer": "ipython3",
   "version": "3.8.3"
  }
 },
 "nbformat": 4,
 "nbformat_minor": 4
}
